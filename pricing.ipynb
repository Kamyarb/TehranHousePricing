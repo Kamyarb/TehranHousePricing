{
 "cells": [
  {
   "cell_type": "code",
   "execution_count": 19,
   "metadata": {},
   "outputs": [],
   "source": [
    "import re\n",
    "import time\n",
    "import plotly.express as px\n",
    "import matplotlib.pyplot as plt\n",
    "import numpy as np\n",
    "import pandas as pd\n",
    "import seaborn as sns\n",
    "from sklearn.ensemble import RandomForestRegressor\n",
    "from sklearn.metrics import mean_absolute_error, mean_squared_error, r2_score\n",
    "from sklearn.model_selection import (GridSearchCV, KFold, cross_val_score,\n",
    "                                     train_test_split)\n",
    "from sklearn.neighbors import KNeighborsRegressor\n",
    "from sklearn.tree import DecisionTreeRegressor\n",
    "from xgboost import XGBRegressor\n"
   ]
  },
  {
   "cell_type": "code",
   "execution_count": 30,
   "metadata": {},
   "outputs": [
    {
     "data": {
      "text/html": [
       "<div>\n",
       "<style scoped>\n",
       "    .dataframe tbody tr th:only-of-type {\n",
       "        vertical-align: middle;\n",
       "    }\n",
       "\n",
       "    .dataframe tbody tr th {\n",
       "        vertical-align: top;\n",
       "    }\n",
       "\n",
       "    .dataframe thead th {\n",
       "        text-align: right;\n",
       "    }\n",
       "</style>\n",
       "<table border=\"1\" class=\"dataframe\">\n",
       "  <thead>\n",
       "    <tr style=\"text-align: right;\">\n",
       "      <th></th>\n",
       "      <th>Area</th>\n",
       "      <th>Room</th>\n",
       "      <th>Parking</th>\n",
       "      <th>Warehouse</th>\n",
       "      <th>Elevator</th>\n",
       "      <th>Address</th>\n",
       "      <th>Price</th>\n",
       "      <th>Price(USD)</th>\n",
       "    </tr>\n",
       "  </thead>\n",
       "  <tbody>\n",
       "    <tr>\n",
       "      <th>0</th>\n",
       "      <td>63</td>\n",
       "      <td>1</td>\n",
       "      <td>True</td>\n",
       "      <td>True</td>\n",
       "      <td>True</td>\n",
       "      <td>Shahran</td>\n",
       "      <td>1.850000e+09</td>\n",
       "      <td>61666.67</td>\n",
       "    </tr>\n",
       "    <tr>\n",
       "      <th>1</th>\n",
       "      <td>60</td>\n",
       "      <td>1</td>\n",
       "      <td>True</td>\n",
       "      <td>True</td>\n",
       "      <td>True</td>\n",
       "      <td>Shahran</td>\n",
       "      <td>1.850000e+09</td>\n",
       "      <td>61666.67</td>\n",
       "    </tr>\n",
       "    <tr>\n",
       "      <th>2</th>\n",
       "      <td>79</td>\n",
       "      <td>2</td>\n",
       "      <td>True</td>\n",
       "      <td>True</td>\n",
       "      <td>True</td>\n",
       "      <td>Pardis</td>\n",
       "      <td>5.500000e+08</td>\n",
       "      <td>18333.33</td>\n",
       "    </tr>\n",
       "    <tr>\n",
       "      <th>3</th>\n",
       "      <td>95</td>\n",
       "      <td>2</td>\n",
       "      <td>True</td>\n",
       "      <td>True</td>\n",
       "      <td>True</td>\n",
       "      <td>Shahrake Qods</td>\n",
       "      <td>9.025000e+08</td>\n",
       "      <td>30083.33</td>\n",
       "    </tr>\n",
       "    <tr>\n",
       "      <th>4</th>\n",
       "      <td>123</td>\n",
       "      <td>2</td>\n",
       "      <td>True</td>\n",
       "      <td>True</td>\n",
       "      <td>True</td>\n",
       "      <td>Shahrake Gharb</td>\n",
       "      <td>7.000000e+09</td>\n",
       "      <td>233333.33</td>\n",
       "    </tr>\n",
       "  </tbody>\n",
       "</table>\n",
       "</div>"
      ],
      "text/plain": [
       "  Area  Room  Parking  Warehouse  Elevator         Address         Price  \\\n",
       "0   63     1     True       True      True         Shahran  1.850000e+09   \n",
       "1   60     1     True       True      True         Shahran  1.850000e+09   \n",
       "2   79     2     True       True      True          Pardis  5.500000e+08   \n",
       "3   95     2     True       True      True   Shahrake Qods  9.025000e+08   \n",
       "4  123     2     True       True      True  Shahrake Gharb  7.000000e+09   \n",
       "\n",
       "   Price(USD)  \n",
       "0    61666.67  \n",
       "1    61666.67  \n",
       "2    18333.33  \n",
       "3    30083.33  \n",
       "4   233333.33  "
      ]
     },
     "execution_count": 30,
     "metadata": {},
     "output_type": "execute_result"
    }
   ],
   "source": [
    "data = pd.read_csv('housePrice.csv')\n",
    "df = data.dropna()\n",
    "df.head()"
   ]
  },
  {
   "cell_type": "code",
   "execution_count": 31,
   "metadata": {},
   "outputs": [],
   "source": [
    "df = df[df['Area'].str.isdigit()]\n",
    "df['Area'] = df['Area'].astype(float)\n",
    "df['perSquare']= df['Price'] / df['Area']"
   ]
  },
  {
   "cell_type": "markdown",
   "metadata": {},
   "source": [
    "Then I found the longtitude and latitude of the districts in Google Maps."
   ]
  },
  {
   "cell_type": "code",
   "execution_count": 32,
   "metadata": {},
   "outputs": [],
   "source": [
    "district = {'Shahran': [35.77, 51.28],'Qalandari': [35.7886, 51.4415],'Lavasan':[35.8186,51.6226],\n",
    "            'Pardis' : [35.75 , 51.77 ],'Amir Bahador':[35.6711, 51.4034],\n",
    "            'Shahrake Qods' : [35.76 , 51.37],'Ekhtiarieh':[35.7860, 51.4581],\n",
    "            'Shahrake Gharb' : [35.76 , 51.37],'Ekbatan':[35.7091, 51.3026],\n",
    "            'North Program Organization' :[35.73 , 51.30],'Absard': [35.6195, 51.1509],\n",
    "            'Andisheh' : [35.75 , 51.27],'Haft Tir': [35.7161, 51.4254],\n",
    "             'West Ferdows Boulevard':[35.73 , 51.29],'Mahallati': [35.6757, 51.5143],\n",
    "             'Narmak': [35.73 , 51.50],'Ozgol':[35.7907, 51.5101],\n",
    "             'Zafar': [35.76 , 51.42],'Tajrish':[35.7995, 51.4300],\n",
    "             'Islamshahr': [35.54 , 51.22],'Dorous':[35.7730, 51.4550],\n",
    "             'Pirouzi': [35.69, 51.46],'Abazar':[35.7326, 51.3256],\n",
    "            'Shahrake Shahid Bagheri':[35.76 , 51.20],'Koohsar':[35.7643, 51.2835],\n",
    "            'Moniriyeh':[35.68 , 51.40],'Parastar':[35.6816,51.4834],\n",
    "            'Saadat Abad':[35.78 , 51.373],'Majidieh':[35.7350, 51.4626],\n",
    "            'Amirieh' :[35.627 , 51.029],'Southern Chitgar': [35.7141, 51.1825],\n",
    "            'Southern Janatabad':[35.747 , 51.300],'Karimkhan':[35.7146, 51.4199],\n",
    "            'Salsabil' : [35.685 , 51.375],'Si Metri Ji':[35.6785, 51.3518],\n",
    "            'Feiz Garden': [35.745 , 51.323],'Karoon':[35.6945, 51.3663],\n",
    "            'Water Organization' : [35.713 , 51.399],'Northern Chitgar':[35.7237, 51.1863],\n",
    "            'ShahrAra' : [35.718 , 51.373],'East Pars': [35.7409, 51.5467],\n",
    "            'Gisha' : [35.734 , 51.376],'Kook':[35.7032, 51.4126],\n",
    "            'Ray' : [35.570 , 51.442],'Air force': [35.7020, 51.4839],\n",
    "            'Abbasabad' : [35.738 , 51.436],'Sohanak':[35.8008, 51.5325],\n",
    "            'Ostad Moein' : [35.701 , 51.344],'Kamranieh':[35.6837, 51.4014],\n",
    "            'Farmanieh' : [35.800 , 51.467],'Velenjak':[35.8052, 51.4021],\n",
    "            'Parand' :[35.480 , 50.937],'Pasdaran':[35.7828 , 51.4675],\n",
    "            'Punak' : [35.759 , 51.3385],'Chardivari':[35.7546, 51.3642],\n",
    "            'Qasr-od-Dasht' : [35.6898 , 51.3699],'Zargandeh':[35.7757, 51.4324],\n",
    "            'Aqdasieh' :[35.797 , 51.4865],'Gholhak':[35.7727 , 51.4438],\n",
    "            'Pakdasht':[35.4716 , 51.6752],'Heravi':[35.7676 , 51.4759],\n",
    "            'Railway' : [35.6618 , 51.3979],'Hashemi':[35.6893 , 51.3595],\n",
    "            'Central Janatabad':[35.7578, 51.3016],'Dehkade Olampic':[35.7604, 51.2634],\n",
    "            'East Ferdows Boulevard' : [35.7230 , 51.3199],'Komeil': [35.7420, 51.5602],\n",
    "            'Pakdasht KhatunAbad' : [35.4992 , 51.6579],'Zibadasht':[35.7491, 51.2596],\n",
    "            'Sattarkhan' : [35.7146 , 51.3643],'Damavand':[35.6924, 52.0473],\n",
    "            'Baghestan' :[35.6464 , 51.1308],'Republic':[35.6975, 51.3818],\n",
    "            'Shahryar' :[35.6722 , 51.0122],'Zaferanieh':[35.8098 , 51.4103],\n",
    "            'Northern Janatabad' : [35.7728 , 51.3059],'Gheitarieh':[35.7929, 51.4447],\n",
    "            'Daryan No' : [35.7140 , 51.3580],'Azadshahr':[35.7339, 51.1899],\n",
    "            'Southern Program Organization' : [35.7259 , 51.3017],'Gandhi': [35.7526, 51.4115],\n",
    "            'Rudhen' : [35.7313, 51.9011],'Niavaran':[35.8166, 51.4702],\n",
    "            'West Pars' : [35.7411, 51.5321],'Amirabad':[35.7358, 51.3924],\n",
    "            'Afsarieh' : [35.6539, 51.4928],'Marzdaran':[35.7349 , 51.3519],\n",
    "            'Sadeghieh':[35.7188 , 51.3298],'Elahieh':[35.7904, 51.4262],\n",
    "            'Chahardangeh' : [35.6061, 51.3089],'Baqershahr': [35.5339, 51.4039],\n",
    "            'Jeyhoon' :[35.6896 , 51.3635],'Lavizan':[35.7748 , 51.496],\n",
    "            'Shams Abad':[35.7487, 51.4717],'Fatemi':[35.7197 , 51.4033],\n",
    "            'Keshavarz Boulevard':[35.7094 , 51.4004],'Kahrizak':[35.5199 ,51.3571 ],\n",
    "            'Qarchak':[35.4387 , 51.5696],'Northren Jamalzadeh': [35.7040, 51.3868],\n",
    "            'Azarbaijan': [35.6977 , 51.3729],'Bahar':[35.7094 , 51.4301],\n",
    "            'Persian Gulf Martyrs Lake':[35.7433 , 51.5944],'Beryanak':[35.6768, 51.3764],\n",
    "            'Heshmatieh':[35.7214, 51.4577],'Elm-o-Sanat':[35.7364 , 51.5051],\n",
    "            'Golestan':[35.7699 , 51.4641],'Shahr-e-Ziba':[35.7478 , 51.2902],\n",
    "            'Qazvin Imamzadeh Hassan':[35.7984, 50.9853],'Valiasr': [35.6505, 51.3407],\n",
    "            'Mirdamad':[35.7610, 51.4264],'Razi':[35.6666, 51.3957],'Jordan':[35.7708,51.4173],\n",
    "            'Shahedshahr':[35.5721, 51.0851],'Yaftabad':[35.6651, 51.3184],'Mehran':[35.7331,51.3197],\n",
    "            'Nasim Shahr': [35.5640, 51.1608],'Tenant':[35.5, 51.5],'Chardangeh':[35.6055,51.3083],\n",
    "            'Fallah':[35.6549, 51.3578],'Eskandari':[35.6854, 51.3810],'Shahrakeh Naft':[35.8088,51.5109],\n",
    "            'Ajudaniye':[35.8073, 51.4843],'Tehransar':[35.6972, 51.2561],'Nawab':[35.6929,51.3780],\n",
    "            'Yousef Abad': [35.7293, 51.4047],'Northern Suhrawardi':[35.7335, 51.4392],\n",
    "            'Villa':[35.7081, 51.4151],'Hakimiyeh':[35.7367, 51.5804],'Nezamabad':[35.7186,51.4667],\n",
    "            'Garden of Saba':[35.7196, 51.4392],'Tarasht': [35.7064, 51.3459],'Azari':[35.6673,51.3518],\n",
    "            'Dezashib':[35.8097, 51.4530],'Shahrake Apadana': [35.7061, 51.3273],'Araj':[35.7909,51.4881],\n",
    "            'Mahmoudieh':[35.7926, 51.4155],'Vahidieh':[35.4850, 51.0828],'Malard':[35.6656,50.9772],\n",
    "            'Shahrake Azadi': [35.7097, 51.2743],'Darband':[35.8240, 51.4254],'Tehran Now':[35.7093, 51.4945],\n",
    "            'Darabad':[35.8171, 51.4906],'Eram':[35.7255, 51.2921],'Atabak':[35.6493,51.4603],\n",
    "            'Sabalan':[35.7885, 51.4987],'SabaShahr':[35.5813, 51.1116],'Shahrake Madaen':[35.4773,51.7188],\n",
    "            'Waterfall':[35.6788, 51.4425],'Ahang':[35.6621, 51.4839],'Salehabad':[35.5044, 51.1894],\n",
    "            'Pishva':[35.3054, 51.7147],'Enghelab':[35.7012, 51.3937],'Islamshahr Elahieh':[35.5722,51.2409],\n",
    "            'Ray - Montazeri':[35.6054,51.4306],'Firoozkooh Kuhsar':[35.7590,52.7684],'Ghoba':[35.7612,51.4494],\n",
    "            'Hekmat':[35.8007, 51.4421],'Mehrabad':[35.6719, 51.3336],'Southern Suhrawardi':[35.7202,51.4340],\n",
    "            'Abuzar':[35.7318, 51.3260],'Dolatabad':[35.6170, 51.4486],'Hor Square':[35.6928,51.3876],\n",
    "            'Taslihat':[35.7197, 51.4734],'Kazemabad':[35.4462, 51.1625],\n",
    "            'Robat Karim': [35.4880, 51.0730],'Ray - Pilgosh':[35.5929,51.4392],'Ghiyamdasht':[35.5246, 51.6492],\n",
    "            'Telecommunication':[35.7496, 51.2921],'Mirza Shirazi': [35.7272, 51.4151],\n",
    "            'Seyed Khandan': [35.7401, 51.4479],'Shahrake Quds':[35.7597, 51.3717],'Safadasht':[35.6935, 50.8444],\n",
    "            'Khademabad Garden': [35.6557, 51.1146] , 'Hassan Abad':[35.6864, 51.4097],\n",
    "            'Chidz': [35.7990, 51.4556],'Khavaran':[35.6662,51.4515],'Argentina':[35.7361,51.4143],\n",
    "            'Boloorsazi':[35.3747, 51.6006],'Mehrabad River River':[35.6250, 51.2849],\n",
    "            'Varamin - Beheshti':[35.3222,51.6440],'Shoosh':[35.6406,51.4440],'Vanak':[35.7571,51.4114],\n",
    "            'Thirteen November': [35.6366, 51.2112],'Darakeh':[35.8074, 51.3813],'Aliabad South':[35.6272, 51.4206],\n",
    "            'Alborz Complex': [35.7596, 51.2350],'Firoozkooh':[35.7589,52.7678],'Vahidiyeh':[35.7152,51.4702],\n",
    "            'Shadabad':[35.6578, 51.3036],'Naziabad':[35.6406, 51.4031],'Javadiyeh':[35.6543,51.3898],\n",
    "            'Yakhchiabad':[35.6259, 51.4022]}"
   ]
  },
  {
   "cell_type": "code",
   "execution_count": 33,
   "metadata": {},
   "outputs": [],
   "source": [
    "df['Latitude'] = df.Address.map(lambda x: district[x][0])\n",
    "df['Longtitude'] = df.Address.map(lambda x: district[x][1])"
   ]
  },
  {
   "cell_type": "markdown",
   "metadata": {},
   "source": [
    "Removing the `outliers`"
   ]
  },
  {
   "cell_type": "code",
   "execution_count": 34,
   "metadata": {},
   "outputs": [],
   "source": [
    "df= df[ df['perSquare'] < np.quantile(df['perSquare'], .9)]"
   ]
  },
  {
   "cell_type": "code",
   "execution_count": 35,
   "metadata": {},
   "outputs": [],
   "source": [
    "boolean_features = ['Parking','Warehouse','Elevator']\n",
    "df[boolean_features] = df[boolean_features].astype(np.int8)"
   ]
  },
  {
   "cell_type": "code",
   "execution_count": 36,
   "metadata": {},
   "outputs": [
    {
     "data": {
      "application/vnd.plotly.v1+json": {
       "config": {
        "plotlyServerURL": "https://plot.ly"
       },
       "data": [
        {
         "coloraxis": "coloraxis",
         "hovertemplate": "x: %{x}<br>y: %{y}<br>color: %{z}<extra></extra>",
         "name": "0",
         "type": "heatmap",
         "x": [
          "Area",
          "Room",
          "Parking",
          "Warehouse",
          "Elevator",
          "Price",
          "Price(USD)",
          "perSquare",
          "Latitude",
          "Longtitude"
         ],
         "xaxis": "x",
         "y": [
          "Area",
          "Room",
          "Parking",
          "Warehouse",
          "Elevator",
          "Price",
          "Price(USD)",
          "perSquare",
          "Latitude",
          "Longtitude"
         ],
         "yaxis": "y",
         "z": [
          [
           1,
           0.6139559005257499,
           0.19966311127275532,
           0.06499350958776315,
           0.065925553661727,
           0.5898502469878023,
           0.5898502463174767,
           0.21299950530027004,
           0.09834837706834956,
           0.17460978279736772
          ],
          [
           0.6139559005257499,
           1,
           0.2651735138698325,
           0.11370685892273784,
           0.2024384419492014,
           0.5954023942918193,
           0.5954023941369464,
           0.3057421869709917,
           0.14470285520113757,
           0.09126759807661941
          ],
          [
           0.19966311127275532,
           0.2651735138698325,
           1,
           0.4176810185006759,
           0.4257199326496464,
           0.30360956623090685,
           0.30360956528643346,
           0.35713918899190095,
           0.36856926018702213,
           0.11387116245811384
          ],
          [
           0.06499350958776315,
           0.11370685892273784,
           0.4176810185006759,
           1,
           0.19058064711147765,
           0.16678799618455697,
           0.16678799516925855,
           0.21265247162763073,
           0.3326230126887148,
           0.11944677190520138
          ],
          [
           0.065925553661727,
           0.2024384419492014,
           0.4257199326496464,
           0.19058064711147765,
           1,
           0.24038105792301837,
           0.2403810577875285,
           0.29575554448874974,
           0.18313114549149376,
           0.07227910790343324
          ],
          [
           0.5898502469878023,
           0.5954023942918193,
           0.30360956623090685,
           0.16678799618455697,
           0.24038105792301837,
           1,
           0.9999999999999991,
           0.8285305635148106,
           0.41283467037291305,
           0.10776043254149623
          ],
          [
           0.5898502463174767,
           0.5954023941369464,
           0.30360956528643346,
           0.16678799516925855,
           0.2403810577875285,
           0.9999999999999991,
           1,
           0.8285305635123618,
           0.412834670285435,
           0.10776043164042268
          ],
          [
           0.21299950530027004,
           0.3057421869709917,
           0.35713918899190095,
           0.21265247162763073,
           0.29575554448874974,
           0.8285305635148106,
           0.8285305635123618,
           1,
           0.5408122261540695,
           0.04604949765244576
          ],
          [
           0.09834837706834956,
           0.14470285520113757,
           0.36856926018702213,
           0.3326230126887148,
           0.18313114549149376,
           0.41283467037291305,
           0.412834670285435,
           0.5408122261540695,
           1,
           0.33903552212285976
          ],
          [
           0.17460978279736772,
           0.09126759807661941,
           0.11387116245811384,
           0.11944677190520138,
           0.07227910790343324,
           0.10776043254149623,
           0.10776043164042268,
           0.04604949765244576,
           0.33903552212285976,
           1
          ]
         ]
        }
       ],
       "layout": {
        "coloraxis": {
         "colorscale": [
          [
           0,
           "#0d0887"
          ],
          [
           0.1111111111111111,
           "#46039f"
          ],
          [
           0.2222222222222222,
           "#7201a8"
          ],
          [
           0.3333333333333333,
           "#9c179e"
          ],
          [
           0.4444444444444444,
           "#bd3786"
          ],
          [
           0.5555555555555556,
           "#d8576b"
          ],
          [
           0.6666666666666666,
           "#ed7953"
          ],
          [
           0.7777777777777778,
           "#fb9f3a"
          ],
          [
           0.8888888888888888,
           "#fdca26"
          ],
          [
           1,
           "#f0f921"
          ]
         ]
        },
        "margin": {
         "t": 60
        },
        "template": {
         "data": {
          "bar": [
           {
            "error_x": {
             "color": "#2a3f5f"
            },
            "error_y": {
             "color": "#2a3f5f"
            },
            "marker": {
             "line": {
              "color": "#E5ECF6",
              "width": 0.5
             },
             "pattern": {
              "fillmode": "overlay",
              "size": 10,
              "solidity": 0.2
             }
            },
            "type": "bar"
           }
          ],
          "barpolar": [
           {
            "marker": {
             "line": {
              "color": "#E5ECF6",
              "width": 0.5
             },
             "pattern": {
              "fillmode": "overlay",
              "size": 10,
              "solidity": 0.2
             }
            },
            "type": "barpolar"
           }
          ],
          "carpet": [
           {
            "aaxis": {
             "endlinecolor": "#2a3f5f",
             "gridcolor": "white",
             "linecolor": "white",
             "minorgridcolor": "white",
             "startlinecolor": "#2a3f5f"
            },
            "baxis": {
             "endlinecolor": "#2a3f5f",
             "gridcolor": "white",
             "linecolor": "white",
             "minorgridcolor": "white",
             "startlinecolor": "#2a3f5f"
            },
            "type": "carpet"
           }
          ],
          "choropleth": [
           {
            "colorbar": {
             "outlinewidth": 0,
             "ticks": ""
            },
            "type": "choropleth"
           }
          ],
          "contour": [
           {
            "colorbar": {
             "outlinewidth": 0,
             "ticks": ""
            },
            "colorscale": [
             [
              0,
              "#0d0887"
             ],
             [
              0.1111111111111111,
              "#46039f"
             ],
             [
              0.2222222222222222,
              "#7201a8"
             ],
             [
              0.3333333333333333,
              "#9c179e"
             ],
             [
              0.4444444444444444,
              "#bd3786"
             ],
             [
              0.5555555555555556,
              "#d8576b"
             ],
             [
              0.6666666666666666,
              "#ed7953"
             ],
             [
              0.7777777777777778,
              "#fb9f3a"
             ],
             [
              0.8888888888888888,
              "#fdca26"
             ],
             [
              1,
              "#f0f921"
             ]
            ],
            "type": "contour"
           }
          ],
          "contourcarpet": [
           {
            "colorbar": {
             "outlinewidth": 0,
             "ticks": ""
            },
            "type": "contourcarpet"
           }
          ],
          "heatmap": [
           {
            "colorbar": {
             "outlinewidth": 0,
             "ticks": ""
            },
            "colorscale": [
             [
              0,
              "#0d0887"
             ],
             [
              0.1111111111111111,
              "#46039f"
             ],
             [
              0.2222222222222222,
              "#7201a8"
             ],
             [
              0.3333333333333333,
              "#9c179e"
             ],
             [
              0.4444444444444444,
              "#bd3786"
             ],
             [
              0.5555555555555556,
              "#d8576b"
             ],
             [
              0.6666666666666666,
              "#ed7953"
             ],
             [
              0.7777777777777778,
              "#fb9f3a"
             ],
             [
              0.8888888888888888,
              "#fdca26"
             ],
             [
              1,
              "#f0f921"
             ]
            ],
            "type": "heatmap"
           }
          ],
          "heatmapgl": [
           {
            "colorbar": {
             "outlinewidth": 0,
             "ticks": ""
            },
            "colorscale": [
             [
              0,
              "#0d0887"
             ],
             [
              0.1111111111111111,
              "#46039f"
             ],
             [
              0.2222222222222222,
              "#7201a8"
             ],
             [
              0.3333333333333333,
              "#9c179e"
             ],
             [
              0.4444444444444444,
              "#bd3786"
             ],
             [
              0.5555555555555556,
              "#d8576b"
             ],
             [
              0.6666666666666666,
              "#ed7953"
             ],
             [
              0.7777777777777778,
              "#fb9f3a"
             ],
             [
              0.8888888888888888,
              "#fdca26"
             ],
             [
              1,
              "#f0f921"
             ]
            ],
            "type": "heatmapgl"
           }
          ],
          "histogram": [
           {
            "marker": {
             "pattern": {
              "fillmode": "overlay",
              "size": 10,
              "solidity": 0.2
             }
            },
            "type": "histogram"
           }
          ],
          "histogram2d": [
           {
            "colorbar": {
             "outlinewidth": 0,
             "ticks": ""
            },
            "colorscale": [
             [
              0,
              "#0d0887"
             ],
             [
              0.1111111111111111,
              "#46039f"
             ],
             [
              0.2222222222222222,
              "#7201a8"
             ],
             [
              0.3333333333333333,
              "#9c179e"
             ],
             [
              0.4444444444444444,
              "#bd3786"
             ],
             [
              0.5555555555555556,
              "#d8576b"
             ],
             [
              0.6666666666666666,
              "#ed7953"
             ],
             [
              0.7777777777777778,
              "#fb9f3a"
             ],
             [
              0.8888888888888888,
              "#fdca26"
             ],
             [
              1,
              "#f0f921"
             ]
            ],
            "type": "histogram2d"
           }
          ],
          "histogram2dcontour": [
           {
            "colorbar": {
             "outlinewidth": 0,
             "ticks": ""
            },
            "colorscale": [
             [
              0,
              "#0d0887"
             ],
             [
              0.1111111111111111,
              "#46039f"
             ],
             [
              0.2222222222222222,
              "#7201a8"
             ],
             [
              0.3333333333333333,
              "#9c179e"
             ],
             [
              0.4444444444444444,
              "#bd3786"
             ],
             [
              0.5555555555555556,
              "#d8576b"
             ],
             [
              0.6666666666666666,
              "#ed7953"
             ],
             [
              0.7777777777777778,
              "#fb9f3a"
             ],
             [
              0.8888888888888888,
              "#fdca26"
             ],
             [
              1,
              "#f0f921"
             ]
            ],
            "type": "histogram2dcontour"
           }
          ],
          "mesh3d": [
           {
            "colorbar": {
             "outlinewidth": 0,
             "ticks": ""
            },
            "type": "mesh3d"
           }
          ],
          "parcoords": [
           {
            "line": {
             "colorbar": {
              "outlinewidth": 0,
              "ticks": ""
             }
            },
            "type": "parcoords"
           }
          ],
          "pie": [
           {
            "automargin": true,
            "type": "pie"
           }
          ],
          "scatter": [
           {
            "fillpattern": {
             "fillmode": "overlay",
             "size": 10,
             "solidity": 0.2
            },
            "type": "scatter"
           }
          ],
          "scatter3d": [
           {
            "line": {
             "colorbar": {
              "outlinewidth": 0,
              "ticks": ""
             }
            },
            "marker": {
             "colorbar": {
              "outlinewidth": 0,
              "ticks": ""
             }
            },
            "type": "scatter3d"
           }
          ],
          "scattercarpet": [
           {
            "marker": {
             "colorbar": {
              "outlinewidth": 0,
              "ticks": ""
             }
            },
            "type": "scattercarpet"
           }
          ],
          "scattergeo": [
           {
            "marker": {
             "colorbar": {
              "outlinewidth": 0,
              "ticks": ""
             }
            },
            "type": "scattergeo"
           }
          ],
          "scattergl": [
           {
            "marker": {
             "colorbar": {
              "outlinewidth": 0,
              "ticks": ""
             }
            },
            "type": "scattergl"
           }
          ],
          "scattermapbox": [
           {
            "marker": {
             "colorbar": {
              "outlinewidth": 0,
              "ticks": ""
             }
            },
            "type": "scattermapbox"
           }
          ],
          "scatterpolar": [
           {
            "marker": {
             "colorbar": {
              "outlinewidth": 0,
              "ticks": ""
             }
            },
            "type": "scatterpolar"
           }
          ],
          "scatterpolargl": [
           {
            "marker": {
             "colorbar": {
              "outlinewidth": 0,
              "ticks": ""
             }
            },
            "type": "scatterpolargl"
           }
          ],
          "scatterternary": [
           {
            "marker": {
             "colorbar": {
              "outlinewidth": 0,
              "ticks": ""
             }
            },
            "type": "scatterternary"
           }
          ],
          "surface": [
           {
            "colorbar": {
             "outlinewidth": 0,
             "ticks": ""
            },
            "colorscale": [
             [
              0,
              "#0d0887"
             ],
             [
              0.1111111111111111,
              "#46039f"
             ],
             [
              0.2222222222222222,
              "#7201a8"
             ],
             [
              0.3333333333333333,
              "#9c179e"
             ],
             [
              0.4444444444444444,
              "#bd3786"
             ],
             [
              0.5555555555555556,
              "#d8576b"
             ],
             [
              0.6666666666666666,
              "#ed7953"
             ],
             [
              0.7777777777777778,
              "#fb9f3a"
             ],
             [
              0.8888888888888888,
              "#fdca26"
             ],
             [
              1,
              "#f0f921"
             ]
            ],
            "type": "surface"
           }
          ],
          "table": [
           {
            "cells": {
             "fill": {
              "color": "#EBF0F8"
             },
             "line": {
              "color": "white"
             }
            },
            "header": {
             "fill": {
              "color": "#C8D4E3"
             },
             "line": {
              "color": "white"
             }
            },
            "type": "table"
           }
          ]
         },
         "layout": {
          "annotationdefaults": {
           "arrowcolor": "#2a3f5f",
           "arrowhead": 0,
           "arrowwidth": 1
          },
          "autotypenumbers": "strict",
          "coloraxis": {
           "colorbar": {
            "outlinewidth": 0,
            "ticks": ""
           }
          },
          "colorscale": {
           "diverging": [
            [
             0,
             "#8e0152"
            ],
            [
             0.1,
             "#c51b7d"
            ],
            [
             0.2,
             "#de77ae"
            ],
            [
             0.3,
             "#f1b6da"
            ],
            [
             0.4,
             "#fde0ef"
            ],
            [
             0.5,
             "#f7f7f7"
            ],
            [
             0.6,
             "#e6f5d0"
            ],
            [
             0.7,
             "#b8e186"
            ],
            [
             0.8,
             "#7fbc41"
            ],
            [
             0.9,
             "#4d9221"
            ],
            [
             1,
             "#276419"
            ]
           ],
           "sequential": [
            [
             0,
             "#0d0887"
            ],
            [
             0.1111111111111111,
             "#46039f"
            ],
            [
             0.2222222222222222,
             "#7201a8"
            ],
            [
             0.3333333333333333,
             "#9c179e"
            ],
            [
             0.4444444444444444,
             "#bd3786"
            ],
            [
             0.5555555555555556,
             "#d8576b"
            ],
            [
             0.6666666666666666,
             "#ed7953"
            ],
            [
             0.7777777777777778,
             "#fb9f3a"
            ],
            [
             0.8888888888888888,
             "#fdca26"
            ],
            [
             1,
             "#f0f921"
            ]
           ],
           "sequentialminus": [
            [
             0,
             "#0d0887"
            ],
            [
             0.1111111111111111,
             "#46039f"
            ],
            [
             0.2222222222222222,
             "#7201a8"
            ],
            [
             0.3333333333333333,
             "#9c179e"
            ],
            [
             0.4444444444444444,
             "#bd3786"
            ],
            [
             0.5555555555555556,
             "#d8576b"
            ],
            [
             0.6666666666666666,
             "#ed7953"
            ],
            [
             0.7777777777777778,
             "#fb9f3a"
            ],
            [
             0.8888888888888888,
             "#fdca26"
            ],
            [
             1,
             "#f0f921"
            ]
           ]
          },
          "colorway": [
           "#636efa",
           "#EF553B",
           "#00cc96",
           "#ab63fa",
           "#FFA15A",
           "#19d3f3",
           "#FF6692",
           "#B6E880",
           "#FF97FF",
           "#FECB52"
          ],
          "font": {
           "color": "#2a3f5f"
          },
          "geo": {
           "bgcolor": "white",
           "lakecolor": "white",
           "landcolor": "#E5ECF6",
           "showlakes": true,
           "showland": true,
           "subunitcolor": "white"
          },
          "hoverlabel": {
           "align": "left"
          },
          "hovermode": "closest",
          "mapbox": {
           "style": "light"
          },
          "paper_bgcolor": "white",
          "plot_bgcolor": "#E5ECF6",
          "polar": {
           "angularaxis": {
            "gridcolor": "white",
            "linecolor": "white",
            "ticks": ""
           },
           "bgcolor": "#E5ECF6",
           "radialaxis": {
            "gridcolor": "white",
            "linecolor": "white",
            "ticks": ""
           }
          },
          "scene": {
           "xaxis": {
            "backgroundcolor": "#E5ECF6",
            "gridcolor": "white",
            "gridwidth": 2,
            "linecolor": "white",
            "showbackground": true,
            "ticks": "",
            "zerolinecolor": "white"
           },
           "yaxis": {
            "backgroundcolor": "#E5ECF6",
            "gridcolor": "white",
            "gridwidth": 2,
            "linecolor": "white",
            "showbackground": true,
            "ticks": "",
            "zerolinecolor": "white"
           },
           "zaxis": {
            "backgroundcolor": "#E5ECF6",
            "gridcolor": "white",
            "gridwidth": 2,
            "linecolor": "white",
            "showbackground": true,
            "ticks": "",
            "zerolinecolor": "white"
           }
          },
          "shapedefaults": {
           "line": {
            "color": "#2a3f5f"
           }
          },
          "ternary": {
           "aaxis": {
            "gridcolor": "white",
            "linecolor": "white",
            "ticks": ""
           },
           "baxis": {
            "gridcolor": "white",
            "linecolor": "white",
            "ticks": ""
           },
           "bgcolor": "#E5ECF6",
           "caxis": {
            "gridcolor": "white",
            "linecolor": "white",
            "ticks": ""
           }
          },
          "title": {
           "x": 0.05
          },
          "xaxis": {
           "automargin": true,
           "gridcolor": "white",
           "linecolor": "white",
           "ticks": "",
           "title": {
            "standoff": 15
           },
           "zerolinecolor": "white",
           "zerolinewidth": 2
          },
          "yaxis": {
           "automargin": true,
           "gridcolor": "white",
           "linecolor": "white",
           "ticks": "",
           "title": {
            "standoff": 15
           },
           "zerolinecolor": "white",
           "zerolinewidth": 2
          }
         }
        },
        "xaxis": {
         "anchor": "y",
         "constrain": "domain",
         "domain": [
          0,
          1
         ],
         "scaleanchor": "y"
        },
        "yaxis": {
         "anchor": "x",
         "autorange": "reversed",
         "constrain": "domain",
         "domain": [
          0,
          1
         ]
        }
       }
      }
     },
     "metadata": {},
     "output_type": "display_data"
    }
   ],
   "source": [
    "px.imshow(df.corr())"
   ]
  },
  {
   "cell_type": "code",
   "execution_count": 39,
   "metadata": {},
   "outputs": [
    {
     "name": "stderr",
     "output_type": "stream",
     "text": [
      "/home/kamyar/miniconda3/envs/vision/lib/python3.8/site-packages/seaborn/distributions.py:2619: FutureWarning:\n",
      "\n",
      "`distplot` is a deprecated function and will be removed in a future version. Please adapt your code to use either `displot` (a figure-level function with similar flexibility) or `histplot` (an axes-level function for histograms).\n",
      "\n",
      "/home/kamyar/miniconda3/envs/vision/lib/python3.8/site-packages/seaborn/distributions.py:2619: FutureWarning:\n",
      "\n",
      "`distplot` is a deprecated function and will be removed in a future version. Please adapt your code to use either `displot` (a figure-level function with similar flexibility) or `histplot` (an axes-level function for histograms).\n",
      "\n",
      "/home/kamyar/miniconda3/envs/vision/lib/python3.8/site-packages/seaborn/distributions.py:2619: FutureWarning:\n",
      "\n",
      "`distplot` is a deprecated function and will be removed in a future version. Please adapt your code to use either `displot` (a figure-level function with similar flexibility) or `histplot` (an axes-level function for histograms).\n",
      "\n",
      "/home/kamyar/miniconda3/envs/vision/lib/python3.8/site-packages/seaborn/distributions.py:2619: FutureWarning:\n",
      "\n",
      "`distplot` is a deprecated function and will be removed in a future version. Please adapt your code to use either `displot` (a figure-level function with similar flexibility) or `histplot` (an axes-level function for histograms).\n",
      "\n",
      "/home/kamyar/miniconda3/envs/vision/lib/python3.8/site-packages/seaborn/distributions.py:2619: FutureWarning:\n",
      "\n",
      "`distplot` is a deprecated function and will be removed in a future version. Please adapt your code to use either `displot` (a figure-level function with similar flexibility) or `histplot` (an axes-level function for histograms).\n",
      "\n",
      "/home/kamyar/miniconda3/envs/vision/lib/python3.8/site-packages/seaborn/distributions.py:2619: FutureWarning:\n",
      "\n",
      "`distplot` is a deprecated function and will be removed in a future version. Please adapt your code to use either `displot` (a figure-level function with similar flexibility) or `histplot` (an axes-level function for histograms).\n",
      "\n",
      "/home/kamyar/miniconda3/envs/vision/lib/python3.8/site-packages/seaborn/distributions.py:2619: FutureWarning:\n",
      "\n",
      "`distplot` is a deprecated function and will be removed in a future version. Please adapt your code to use either `displot` (a figure-level function with similar flexibility) or `histplot` (an axes-level function for histograms).\n",
      "\n",
      "/home/kamyar/miniconda3/envs/vision/lib/python3.8/site-packages/seaborn/distributions.py:2619: FutureWarning:\n",
      "\n",
      "`distplot` is a deprecated function and will be removed in a future version. Please adapt your code to use either `displot` (a figure-level function with similar flexibility) or `histplot` (an axes-level function for histograms).\n",
      "\n",
      "/home/kamyar/miniconda3/envs/vision/lib/python3.8/site-packages/seaborn/distributions.py:2619: FutureWarning:\n",
      "\n",
      "`distplot` is a deprecated function and will be removed in a future version. Please adapt your code to use either `displot` (a figure-level function with similar flexibility) or `histplot` (an axes-level function for histograms).\n",
      "\n",
      "/home/kamyar/miniconda3/envs/vision/lib/python3.8/site-packages/seaborn/distributions.py:2619: FutureWarning:\n",
      "\n",
      "`distplot` is a deprecated function and will be removed in a future version. Please adapt your code to use either `displot` (a figure-level function with similar flexibility) or `histplot` (an axes-level function for histograms).\n",
      "\n"
     ]
    },
    {
     "data": {
      "image/png": "[encoded data removed]",
      "text/plain": [
       "<Figure size 2160x3600 with 40 Axes>"
      ]
     },
     "metadata": {
      "needs_background": "light"
     },
     "output_type": "display_data"
    }
   ],
   "source": [
    "df_distplot= df.drop(['Address'],axis=1)\n",
    "fig, axes = plt.subplots(nrows = 8, ncols = 5)    # axes is 2d array (3x3)\n",
    "axes = axes.flatten()         # Convert axes to 1d array of length 9\n",
    "fig.set_size_inches(30, 50)\n",
    "\n",
    "for ax, col in zip(axes, df_distplot.columns):\n",
    "  sns.distplot(df_distplot[col], ax = ax, color='forestgreen')\n",
    "  ax.set_title(col)"
   ]
  },
  {
   "cell_type": "code",
   "execution_count": 8,
   "metadata": {},
   "outputs": [],
   "source": [
    "one_hot = pd.get_dummies(df['Address'])\n",
    "df = df.drop('Address',axis = 1)\n",
    "df = df.join(one_hot)"
   ]
  },
  {
   "cell_type": "code",
   "execution_count": 9,
   "metadata": {},
   "outputs": [],
   "source": [
    "X = df.drop(columns = ['Price', 'perSquare', 'Price(USD)'])\n",
    "y = df['Price']"
   ]
  },
  {
   "cell_type": "code",
   "execution_count": 11,
   "metadata": {},
   "outputs": [],
   "source": [
    "from sklearn.preprocessing import StandardScaler\n",
    "scaler= StandardScaler()\n",
    "\n",
    "X_train, X_test, y_train, y_test = \\\n",
    "    train_test_split(X, y, test_size = 0.2, random_state = 42)\n",
    "X_train = scaler.fit_transform(X_train)\n",
    "X_test = scaler.transform(X_test)"
   ]
  },
  {
   "cell_type": "code",
   "execution_count": 12,
   "metadata": {},
   "outputs": [],
   "source": [
    "# Code clonned from Soheil Tehranipour\n",
    "def parameter_finder (model, parameters):\n",
    "    \n",
    "    start = time.time()\n",
    "    \n",
    "    grid = GridSearchCV(model, \n",
    "                        param_grid = parameters,\n",
    "                        cv = 10, \n",
    "                        n_jobs = -1)\n",
    "    \n",
    "    grid_fit = grid.fit(X_train, y_train)\n",
    "    y_train_pred = grid_fit.predict(X_train)\n",
    "    y_pred = grid_fit.predict(X_test)\n",
    "    \n",
    "    train_score =grid_fit.score(X_train, y_train)\n",
    "    test_score = grid_fit.score(X_test, y_test)\n",
    "    RMSE = np.sqrt(mean_squared_error(y_test, y_pred))\n",
    "    \n",
    "    model_name = str(model).split('(')[0]\n",
    "    \n",
    "    end = time.time()\n",
    "    \n",
    "    print(f\"The best parameters for {model_name} model is: {grid_fit.best_params_}\")\n",
    "    print(\"--\" * 10)\n",
    "    print(f\"(R2 score) in the training set is {train_score:0.2%} for {model_name} model.\")\n",
    "    print(f\"(R2 score) in the testing set is {test_score:0.2%} for {model_name} model.\")\n",
    "    print(f\"RMSE is {RMSE:,} for {model_name} model.\")\n",
    "    print(\"--\" * 10)\n",
    "    print(f\"Runtime of the program is: {end - start:0.2f}\")\n",
    "    \n",
    "       \n",
    "    return train_score, test_score, RMSE"
   ]
  },
  {
   "cell_type": "code",
   "execution_count": 13,
   "metadata": {},
   "outputs": [
    {
     "name": "stdout",
     "output_type": "stream",
     "text": [
      "The best parameters for RandomForestRegressor model is: {'max_depth': 65, 'min_samples_split': 8, 'n_estimators': 50}\n",
      "--------------------\n",
      "(R2 score) in the training set is 95.45% for RandomForestRegressor model.\n",
      "(R2 score) in the testing set is 86.24% for RandomForestRegressor model.\n",
      "RMSE is 1,190,436,346.6140068 for RandomForestRegressor model.\n",
      "--------------------\n",
      "Runtime of the program is: 2.18\n"
     ]
    }
   ],
   "source": [
    "rfr = RandomForestRegressor(random_state = 1, n_jobs = -1)\n",
    "param_rfr = {'min_samples_split': [8],\n",
    "            'max_depth': [65],\n",
    "            'n_estimators' : [50]}\n",
    "\n",
    "rfr_train_score, rfr_test_score, rfr_RMSE = parameter_finder(rfr, param_rfr)\n",
    "# %%\n"
   ]
  },
  {
   "cell_type": "code",
   "execution_count": 17,
   "metadata": {},
   "outputs": [
    {
     "name": "stdout",
     "output_type": "stream",
     "text": [
      "The best parameters for XGBRegressor model is: {'colsample_bytree': 0.65, 'gamma': 0, 'learning_rate': 0.05, 'max_depth': 11, 'n_estimators': 200, 'subsample': 0.75}\n",
      "--------------------\n",
      "(R2 score) in the training set is 98.43% for XGBRegressor model.\n",
      "(R2 score) in the testing set is 87.52% for XGBRegressor model.\n",
      "RMSE is 1,134,087,868.72916 for XGBRegressor model.\n",
      "--------------------\n",
      "Runtime of the program is: 11.32\n"
     ]
    }
   ],
   "source": [
    "xgboost = XGBRegressor(n_jobs = -1)\n",
    "param_xgboost = {'n_estimators': [200],\n",
    "             'learning_rate': [0.05],\n",
    "             'subsample': [0.75],\n",
    "             'colsample_bytree': [.65],\n",
    "             'max_depth': [11],\n",
    "             'gamma': [0 ]}\n",
    "\n",
    "xgboost_train_score, xgboost_test_score, xgboost_RMSE = parameter_finder(xgboost, param_xgboost)"
   ]
  },
  {
   "cell_type": "code",
   "execution_count": null,
   "metadata": {},
   "outputs": [],
   "source": []
  }
 ],
 "metadata": {
  "kernelspec": {
   "display_name": "Python 3.8.13 ('vision')",
   "language": "python",
   "name": "python3"
  },
  "language_info": {
   "codemirror_mode": {
    "name": "ipython",
    "version": 3
   },
   "file_extension": ".py",
   "mimetype": "text/x-python",
   "name": "python",
   "nbconvert_exporter": "python",
   "pygments_lexer": "ipython3",
   "version": "3.8.13"
  },
  "orig_nbformat": 4,
  "vscode": {
   "interpreter": {
    "hash": "aa0259a44b0c041fe122e4cf1f5e5d88a0d91c22f86324b3d6c9100d1eac1625"
   }
  }
 },
 "nbformat": 4,
 "nbformat_minor": 2
}
